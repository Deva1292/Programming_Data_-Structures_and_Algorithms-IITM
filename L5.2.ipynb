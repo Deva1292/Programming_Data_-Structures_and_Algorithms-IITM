{
 "cells": [
  {
   "cell_type": "markdown",
   "metadata": {},
   "source": [
    "Implementation Dijkstra's For Adjacency matrix"
   ]
  },
  {
   "cell_type": "code",
   "execution_count": 1,
   "metadata": {},
   "outputs": [
    {
     "name": "stdout",
     "output_type": "stream",
     "text": [
      "{0: 0, 1: 10.0, 2: 16.0, 3: 86.0, 4: 30.0, 5: 80.0, 6: 35.0}\n"
     ]
    }
   ],
   "source": [
    "def dijkstra(WMat,s):\n",
    "    #Initialization\n",
    "    (rows,cols,x) = WMat.shape\n",
    "    infinity = np.max(WMat)*rows+1\n",
    "    (visited,distance) = ({},{})\n",
    "    for v in range(rows):\n",
    "        (visited[v],distance[v]) = (False,infinity)        \n",
    "    distance[s] = 0\n",
    "\n",
    "\n",
    "    # Computing shortest distance for each vertex from source\n",
    "    for u in range(rows):\n",
    "        # Find minimum distance value on vertices which are not visited\n",
    "        min_dist = min([distance[v] for v in range(rows) if not visited[v]])\n",
    "        \n",
    "\n",
    "        # Find vertices which have minimum distance value min_dist\n",
    "        nextv_list = [v for v in range(rows)if (not visited[v]) and distance[v] == min_dist]\n",
    "\n",
    "\n",
    "        # Select minimum level vertex which have minimum distance value min_dist and mark visited\n",
    "        nextv = min(nextv_list)\n",
    "        visited[nextv] = True\n",
    "  \n",
    "\n",
    "        # Check for each adjacent of nextv vertex which is not visited\n",
    "        for v in range(cols):            \n",
    "            if WMat[nextv,v,0] == 1 and (not visited[v]):\n",
    "                #If distance of v through nextv is smaller than the current distance on v, then update\n",
    "                if distance[nextv] + WMat[nextv,v,1] < distance[v]:\n",
    "                    distance[v] = distance[nextv] + WMat[nextv,v,1]\n",
    "    return(distance)\n",
    "\n",
    "\n",
    "\n",
    "dedges = [(0,1,10),(0,2,80),(1,2,6),(1,4,20),(2,3,70),(4,5,50),(4,6,5),(5,6,10)]\n",
    "size = 7\n",
    "import numpy as np\n",
    "W = np.zeros(shape=(size,size,2))\n",
    "for (i,j,w) in dedges:\n",
    "    W[i,j,0] = 1\n",
    "    W[i,j,1] = w\n",
    "print(dijkstra(W,0))"
   ]
  },
  {
   "cell_type": "markdown",
   "metadata": {},
   "source": [
    "Implementation Dijkstra's For Adjacency List"
   ]
  },
  {
   "cell_type": "code",
   "execution_count": 2,
   "metadata": {},
   "outputs": [
    {
     "name": "stdout",
     "output_type": "stream",
     "text": [
      "{0: 0, 1: 10, 2: 16, 3: 86, 4: 30, 5: 80, 6: 35}\n"
     ]
    }
   ],
   "source": [
    "def dijkstralist(WList,s):\n",
    "    #Initialization\n",
    "    infinity = 1 + len(WList.keys())*max([d for u in WList.keys() for (v,d) in WList[u]])\n",
    "    (visited,distance) = ({},{})\n",
    "    for v in WList.keys():\n",
    "        (visited[v],distance[v]) = (False,infinity)        \n",
    "    distance[s] = 0\n",
    "\n",
    "    \n",
    "    # Computing shortest distance for each vertex from source\n",
    "    for u in WList.keys():\n",
    "        # Find minimum distance value on vertices which are not visited\n",
    "        min_dist = min([distance[v] for v in WList.keys() if not visited[v]])\n",
    "\n",
    "\n",
    "        # Find vertices which have minimum distance value min_dist\n",
    "        nextv_list = [v for v in WList.keys() if (not visited[v]) and distance[v] == min_dist]\n",
    "\n",
    "        # Select minimum level vertex which have minimum distance value min_dist and mark visited\n",
    "        nextv = min(nextv_list)\n",
    "        visited[nextv] = True\n",
    "\n",
    "\n",
    "        # Check for each adjacent of nextv vertex which is not visited\n",
    "        for (v,d) in WList[nextv]:\n",
    "            if not visited[v]:\n",
    "                # If distance of v through nextv is smaller than the current distance of v, then update\n",
    "                if distance[nextv]+d < distance[v]:\n",
    "                    distance[v] = distance[nextv]+d\n",
    "    return(distance)\n",
    "\n",
    "\n",
    "\n",
    "dedges = [(0,1,10),(0,2,80),(1,2,6),(1,4,20),(2,3,70),(4,5,50),(4,6,5),(5,6,10)]\n",
    "size = 7\n",
    "WL = {}\n",
    "for i in range(size):\n",
    "    WL[i] = []\n",
    "for (i,j,d) in dedges:\n",
    "    WL[i].append((j,d))\n",
    "print(dijkstralist(WL,0))"
   ]
  }
 ],
 "metadata": {
  "kernelspec": {
   "display_name": "Python 3",
   "language": "python",
   "name": "python3"
  },
  "language_info": {
   "codemirror_mode": {
    "name": "ipython",
    "version": 3
   },
   "file_extension": ".py",
   "mimetype": "text/x-python",
   "name": "python",
   "nbconvert_exporter": "python",
   "pygments_lexer": "ipython3",
   "version": "3.10.2"
  },
  "orig_nbformat": 4
 },
 "nbformat": 4,
 "nbformat_minor": 2
}
