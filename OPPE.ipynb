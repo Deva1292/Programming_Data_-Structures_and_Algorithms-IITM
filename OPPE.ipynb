{
 "cells": [
  {
   "cell_type": "markdown",
   "metadata": {},
   "source": [
    "# LINKED LISTS"
   ]
  },
  {
   "cell_type": "markdown",
   "metadata": {},
   "source": [
    "### Delete a node at specific position: delete_pos()"
   ]
  },
  {
   "cell_type": "code",
   "execution_count": 1,
   "metadata": {},
   "outputs": [
    {
     "name": "stdout",
     "output_type": "stream",
     "text": [
      "Original Linked List:\n",
      "1 -> 2 -> 3 -> 4 -> 5 -> None\n",
      "Linked List after deleting node at position 2:\n",
      "1 -> 2 -> 4 -> 5 -> None\n"
     ]
    }
   ],
   "source": [
    "class Node:\n",
    "    def __init__(self, data):\n",
    "        self.data = data\n",
    "        self.next = None\n",
    "\n",
    "class LinkedList:\n",
    "    def __init__(self):\n",
    "        self.head = None\n",
    "\n",
    "    def append(self, data):\n",
    "        new_node = Node(data)\n",
    "        if not self.head:\n",
    "            self.head = new_node\n",
    "            return\n",
    "        current = self.head\n",
    "        while current.next:\n",
    "            current = current.next\n",
    "        current.next = new_node\n",
    "\n",
    "    def delete_pos(self, position):\n",
    "        if position == 0:\n",
    "            if self.head:\n",
    "                self.head = self.head.next\n",
    "            return\n",
    "\n",
    "        current = self.head\n",
    "        prev = None\n",
    "        count = 0\n",
    "\n",
    "        while current and count != position:\n",
    "            prev = current\n",
    "            current = current.next\n",
    "            count += 1\n",
    "\n",
    "        if current:\n",
    "            prev.next = current.next\n",
    "\n",
    "    def display(self):\n",
    "        current = self.head\n",
    "        while current:\n",
    "            print(current.data, end=\" -> \")\n",
    "            current = current.next\n",
    "        print(\"None\")\n",
    "\n",
    "# Example usage:\n",
    "llist = LinkedList()\n",
    "llist.append(1)\n",
    "llist.append(2)\n",
    "llist.append(3)\n",
    "llist.append(4)\n",
    "llist.append(5)\n",
    "\n",
    "print(\"Original Linked List:\")\n",
    "llist.display()\n",
    "\n",
    "position_to_delete = 2\n",
    "llist.delete_pos(position_to_delete)\n",
    "\n",
    "print(f\"Linked List after deleting node at position {position_to_delete}:\")\n",
    "llist.display()\n"
   ]
  },
  {
   "cell_type": "markdown",
   "metadata": {},
   "source": [
    "### * Remove duplicates from unsorted list\n"
   ]
  },
  {
   "cell_type": "code",
   "execution_count": 2,
   "metadata": {},
   "outputs": [
    {
     "name": "stdout",
     "output_type": "stream",
     "text": [
      "Original Linked List:\n",
      "1 -> 2 -> 3 -> 2 -> 4 -> 1 -> None\n",
      "Linked List after removing duplicates:\n",
      "1 -> 2 -> 3 -> 4 -> None\n"
     ]
    }
   ],
   "source": [
    "class Node:\n",
    "    def __init__(self, data):\n",
    "        self.data = data\n",
    "        self.next = None\n",
    "\n",
    "class LinkedList:\n",
    "    def __init__(self):\n",
    "        self.head = None\n",
    "\n",
    "    def append(self, data):\n",
    "        new_node = Node(data)\n",
    "        if not self.head:\n",
    "            self.head = new_node\n",
    "            return\n",
    "        current = self.head\n",
    "        while current.next:\n",
    "            current = current.next\n",
    "        current.next = new_node\n",
    "\n",
    "    def remove_duplicates(self):\n",
    "        current = self.head\n",
    "\n",
    "        while current is not None:\n",
    "            runner = current\n",
    "            while runner.next is not None:\n",
    "                if runner.next.data == current.data:\n",
    "                    runner.next = runner.next.next\n",
    "                else:\n",
    "                    runner = runner.next\n",
    "            current = current.next\n",
    "\n",
    "    def display(self):\n",
    "        current = self.head\n",
    "        while current:\n",
    "            print(current.data, end=\" -> \")\n",
    "            current = current.next\n",
    "        print(\"None\")\n",
    "\n",
    "# Example usage:\n",
    "llist = LinkedList()\n",
    "llist.append(1)\n",
    "llist.append(2)\n",
    "llist.append(3)\n",
    "llist.append(2)\n",
    "llist.append(4)\n",
    "llist.append(1)\n",
    "\n",
    "print(\"Original Linked List:\")\n",
    "llist.display()\n",
    "\n",
    "llist.remove_duplicates()\n",
    "\n",
    "print(\"Linked List after removing duplicates:\")\n",
    "llist.display()\n"
   ]
  },
  {
   "cell_type": "markdown",
   "metadata": {},
   "source": [
    "### # Remove duplicate from sorted linked list"
   ]
  },
  {
   "cell_type": "code",
   "execution_count": 16,
   "metadata": {},
   "outputs": [],
   "source": [
    "class Node:\n",
    "    def __init__(self, data):\n",
    "        self.data = data\n",
    "        self.next = None\n",
    "\n",
    "def removeDuplicate(head):\n",
    "    current = head\n",
    "    index = None\n",
    "    \n",
    "    while current is not None:\n",
    "        index = current.next\n",
    "        while index is not None:\n",
    "            if current.data == index.data:\n",
    "                current.next = index.next\n",
    "                index = current.next\n",
    "            else:\n",
    "                index = index.next\n",
    "        current = current.next"
   ]
  },
  {
   "cell_type": "markdown",
   "metadata": {},
   "source": [
    "### Remove duplicates from sorted list.\n"
   ]
  },
  {
   "cell_type": "code",
   "execution_count": 3,
   "metadata": {},
   "outputs": [
    {
     "name": "stdout",
     "output_type": "stream",
     "text": [
      "Original Sorted Linked List:\n",
      "1 -> 1 -> 2 -> 3 -> 3 -> 3 -> 4 -> None\n",
      "Sorted Linked List after removing duplicates:\n",
      "1 -> 2 -> 3 -> 4 -> None\n"
     ]
    }
   ],
   "source": [
    "class Node:\n",
    "    def __init__(self, data):\n",
    "        self.data = data\n",
    "        self.next = None\n",
    "\n",
    "class LinkedList:\n",
    "    def __init__(self):\n",
    "        self.head = None\n",
    "\n",
    "    def append(self, data):\n",
    "        new_node = Node(data)\n",
    "        if not self.head:\n",
    "            self.head = new_node\n",
    "            return\n",
    "        current = self.head\n",
    "        while current.next:\n",
    "            current = current.next\n",
    "        current.next = new_node\n",
    "\n",
    "    def remove_duplicates_sorted(self):\n",
    "        current = self.head\n",
    "\n",
    "        while current and current.next:\n",
    "            if current.data == current.next.data:\n",
    "                current.next = current.next.next\n",
    "            else:\n",
    "                current = current.next\n",
    "\n",
    "    def display(self):\n",
    "        current = self.head\n",
    "        while current:\n",
    "            print(current.data, end=\" -> \")\n",
    "            current = current.next\n",
    "        print(\"None\")\n",
    "\n",
    "# Example usage:\n",
    "llist = LinkedList()\n",
    "llist.append(1)\n",
    "llist.append(1)\n",
    "llist.append(2)\n",
    "llist.append(3)\n",
    "llist.append(3)\n",
    "llist.append(3)\n",
    "llist.append(4)\n",
    "\n",
    "print(\"Original Sorted Linked List:\")\n",
    "llist.display()\n",
    "\n",
    "llist.remove_duplicates_sorted()\n",
    "\n",
    "print(\"Sorted Linked List after removing duplicates:\")\n",
    "llist.display()\n"
   ]
  },
  {
   "cell_type": "markdown",
   "metadata": {},
   "source": [
    "### # Merge Two sorted Linked Lists"
   ]
  },
  {
   "cell_type": "code",
   "execution_count": 15,
   "metadata": {},
   "outputs": [],
   "source": [
    "class Node:\n",
    "    def __init__(self, data):\n",
    "        self.data = data\n",
    "        self.next = None\n",
    "\n",
    "def mergeSortedList(head1, head2):\n",
    "    dummy = Node(-1)  # Create a dummy node to start the merged list\n",
    "    current = dummy   # Pointer to the current node in the merged list\n",
    "\n",
    "    # Merge the lists while both lists are not empty\n",
    "    while head1 is not None and head2 is not None:\n",
    "        if head1.data <= head2.data:\n",
    "            current.next = head1\n",
    "            head1 = head1.next\n",
    "        else:\n",
    "            current.next = head2\n",
    "            head2 = head2.next\n",
    "        current = current.next\n",
    "    \n",
    "    # If any list is not empty, append the remaining nodes to the merged list\n",
    "    if head1 is not None:\n",
    "        current.next = head1\n",
    "    else:\n",
    "        current.next = head2\n",
    "    \n",
    "    return dummy.next  # Return the merged list (excluding the dummy node)"
   ]
  },
  {
   "cell_type": "markdown",
   "metadata": {},
   "source": [
    "### Merge two sorted linked lists."
   ]
  },
  {
   "cell_type": "code",
   "execution_count": 4,
   "metadata": {},
   "outputs": [
    {
     "name": "stdout",
     "output_type": "stream",
     "text": [
      "First Sorted Linked List:\n",
      "1 -> 3 -> 5 -> None\n",
      "Second Sorted Linked List:\n",
      "2 -> 4 -> 6 -> None\n",
      "Merged Sorted Linked List:\n",
      "1 -> 2 -> 3 -> 4 -> 5 -> 6 -> None\n"
     ]
    }
   ],
   "source": [
    "class Node:\n",
    "    def __init__(self, data):\n",
    "        self.data = data\n",
    "        self.next = None\n",
    "\n",
    "class LinkedList:\n",
    "    def __init__(self):\n",
    "        self.head = None\n",
    "\n",
    "    def append(self, data):\n",
    "        new_node = Node(data)\n",
    "        if not self.head:\n",
    "            self.head = new_node\n",
    "            return\n",
    "        current = self.head\n",
    "        while current.next:\n",
    "            current = current.next\n",
    "        current.next = new_node\n",
    "\n",
    "    def merge_sorted(self, list2):\n",
    "        merged_list = LinkedList()\n",
    "        current1 = self.head\n",
    "        current2 = list2.head\n",
    "\n",
    "        while current1 and current2:\n",
    "            if current1.data < current2.data:\n",
    "                merged_list.append(current1.data)\n",
    "                current1 = current1.next\n",
    "            else:\n",
    "                merged_list.append(current2.data)\n",
    "                current2 = current2.next\n",
    "\n",
    "        # Append any remaining nodes from both lists\n",
    "        while current1:\n",
    "            merged_list.append(current1.data)\n",
    "            current1 = current1.next\n",
    "\n",
    "        while current2:\n",
    "            merged_list.append(current2.data)\n",
    "            current2 = current2.next\n",
    "\n",
    "        return merged_list\n",
    "\n",
    "    def display(self):\n",
    "        current = self.head\n",
    "        while current:\n",
    "            print(current.data, end=\" -> \")\n",
    "            current = current.next\n",
    "        print(\"None\")\n",
    "\n",
    "# Example usage:\n",
    "list1 = LinkedList()\n",
    "list1.append(1)\n",
    "list1.append(3)\n",
    "list1.append(5)\n",
    "\n",
    "list2 = LinkedList()\n",
    "list2.append(2)\n",
    "list2.append(4)\n",
    "list2.append(6)\n",
    "\n",
    "print(\"First Sorted Linked List:\")\n",
    "list1.display()\n",
    "\n",
    "print(\"Second Sorted Linked List:\")\n",
    "list2.display()\n",
    "\n",
    "merged_list = list1.merge_sorted(list2)\n",
    "\n",
    "print(\"Merged Sorted Linked List:\")\n",
    "merged_list.display()\n"
   ]
  },
  {
   "cell_type": "markdown",
   "metadata": {},
   "source": [
    "# BINARY SEARCH"
   ]
  },
  {
   "cell_type": "markdown",
   "metadata": {},
   "source": [
    "### Count number of occurrences of a value in O(Log n) time.\n"
   ]
  },
  {
   "cell_type": "code",
   "execution_count": 5,
   "metadata": {},
   "outputs": [
    {
     "name": "stdout",
     "output_type": "stream",
     "text": [
      "Number of occurrences of 2: 3\n"
     ]
    }
   ],
   "source": [
    "def first_occurrence(arr, target):\n",
    "    left, right = 0, len(arr) - 1\n",
    "    first = -1\n",
    "\n",
    "    while left <= right:\n",
    "        mid = left + (right - left) // 2\n",
    "\n",
    "        if arr[mid] == target:\n",
    "            first = mid\n",
    "            right = mid - 1  # Look for occurrences on the left side\n",
    "        elif arr[mid] < target:\n",
    "            left = mid + 1\n",
    "        else:\n",
    "            right = mid - 1\n",
    "\n",
    "    return first\n",
    "\n",
    "def last_occurrence(arr, target):\n",
    "    left, right = 0, len(arr) - 1\n",
    "    last = -1\n",
    "\n",
    "    while left <= right:\n",
    "        mid = left + (right - left) // 2\n",
    "\n",
    "        if arr[mid] == target:\n",
    "            last = mid\n",
    "            left = mid + 1  # Look for occurrences on the right side\n",
    "        elif arr[mid] < target:\n",
    "            left = mid + 1\n",
    "        else:\n",
    "            right = mid - 1\n",
    "\n",
    "    return last\n",
    "\n",
    "def count_occurrences(arr, target):\n",
    "    first = first_occurrence(arr, target)\n",
    "    if first == -1:\n",
    "        return 0\n",
    "    last = last_occurrence(arr, target)\n",
    "    return last - first + 1\n",
    "\n",
    "# Example usage:\n",
    "sorted_array = [1, 2, 2, 2, 3, 4, 4, 5]\n",
    "target = 2\n",
    "count = count_occurrences(sorted_array, target)\n",
    "print(f\"Number of occurrences of {target}: {count}\")\n"
   ]
  },
  {
   "cell_type": "markdown",
   "metadata": {},
   "source": [
    "### Insert element: insert_element(root, k)\n"
   ]
  },
  {
   "cell_type": "code",
   "execution_count": 6,
   "metadata": {},
   "outputs": [
    {
     "name": "stdout",
     "output_type": "stream",
     "text": [
      "Inorder Traversal of the BST:\n",
      "[1, 3, 4, 5, 7, 8, 9]\n"
     ]
    }
   ],
   "source": [
    "class TreeNode:\n",
    "    def __init__(self, val=0, left=None, right=None):\n",
    "        self.val = val\n",
    "        self.left = left\n",
    "        self.right = right\n",
    "\n",
    "def insert_element(root, k):\n",
    "    if not root:\n",
    "        return TreeNode(k)\n",
    "\n",
    "    if k < root.val:\n",
    "        root.left = insert_element(root.left, k)\n",
    "    elif k > root.val:\n",
    "        root.right = insert_element(root.right, k)\n",
    "\n",
    "    return root\n",
    "\n",
    "def inorder_traversal(root):\n",
    "    if not root:\n",
    "        return []\n",
    "    return inorder_traversal(root.left) + [root.val] + inorder_traversal(root.right)\n",
    "\n",
    "# Example usage:\n",
    "root = None\n",
    "elements = [5, 3, 8, 1, 4, 7, 9]\n",
    "\n",
    "for element in elements:\n",
    "    root = insert_element(root, element)\n",
    "\n",
    "print(\"Inorder Traversal of the BST:\")\n",
    "print(inorder_traversal(root))\n"
   ]
  },
  {
   "cell_type": "markdown",
   "metadata": {},
   "source": [
    "# GRAPH"
   ]
  },
  {
   "cell_type": "markdown",
   "metadata": {},
   "source": [
    "### Find shortest cable length: Kruskal's algorithm.\n"
   ]
  },
  {
   "cell_type": "code",
   "execution_count": 7,
   "metadata": {},
   "outputs": [
    {
     "name": "stdout",
     "output_type": "stream",
     "text": [
      "Shortest cable length: 19\n"
     ]
    }
   ],
   "source": [
    "class Graph:\n",
    "    def __init__(self, vertices):\n",
    "        self.V = vertices\n",
    "        self.graph = []\n",
    "\n",
    "    def add_edge(self, u, v, w):\n",
    "        self.graph.append([u, v, w])\n",
    "\n",
    "    def find_parent(self, parent, i):\n",
    "        if parent[i] == i:\n",
    "            return i\n",
    "        return self.find_parent(parent, parent[i])\n",
    "\n",
    "    def union(self, parent, rank, x, y):\n",
    "        x_root = self.find_parent(parent, x)\n",
    "        y_root = self.find_parent(parent, y)\n",
    "\n",
    "        if rank[x_root] < rank[y_root]:\n",
    "            parent[x_root] = y_root\n",
    "        elif rank[x_root] > rank[y_root]:\n",
    "            parent[y_root] = x_root\n",
    "        else:\n",
    "            parent[y_root] = x_root\n",
    "            rank[x_root] += 1\n",
    "\n",
    "    def kruskal(self):\n",
    "        result = []\n",
    "        i, e = 0, 0\n",
    "        self.graph = sorted(self.graph, key=lambda item: item[2])\n",
    "\n",
    "        parent = [i for i in range(self.V)]\n",
    "        rank = [0] * self.V\n",
    "\n",
    "        while e < self.V - 1:\n",
    "            u, v, w = self.graph[i]\n",
    "            i += 1\n",
    "            x = self.find_parent(parent, u)\n",
    "            y = self.find_parent(parent, v)\n",
    "\n",
    "            if x != y:\n",
    "                e += 1\n",
    "                result.append([u, v, w])\n",
    "                self.union(parent, rank, x, y)\n",
    "\n",
    "        total_length = sum(item[2] for item in result)\n",
    "        return total_length\n",
    "\n",
    "# Example usage:\n",
    "g = Graph(4)\n",
    "g.add_edge(0, 1, 10)\n",
    "g.add_edge(0, 2, 6)\n",
    "g.add_edge(0, 3, 5)\n",
    "g.add_edge(1, 3, 15)\n",
    "g.add_edge(2, 3, 4)\n",
    "\n",
    "shortest_cable_length = g.kruskal()\n",
    "print(f\"Shortest cable length: {shortest_cable_length}\")\n"
   ]
  },
  {
   "cell_type": "markdown",
   "metadata": {},
   "source": [
    "### * BFS with level detection.\n"
   ]
  },
  {
   "cell_type": "code",
   "execution_count": 8,
   "metadata": {},
   "outputs": [
    {
     "name": "stdout",
     "output_type": "stream",
     "text": [
      "BFS with Level Detection starting from Node 2:\n",
      "Node 2 is at level 0\n",
      "Node 0 is at level 1\n",
      "Node 1 is at level 1\n",
      "Node 3 is at level 1\n"
     ]
    }
   ],
   "source": [
    "from collections import defaultdict, deque\n",
    "\n",
    "class Graph:\n",
    "    def __init__(self):\n",
    "        self.graph = defaultdict(list)\n",
    "\n",
    "    def add_edge(self, u, v):\n",
    "        self.graph[u].append(v)\n",
    "        self.graph[v].append(u)\n",
    "\n",
    "    def bfs_with_levels(self, source):\n",
    "        levels = {}  # Dictionary to store levels of nodes\n",
    "        visited = set()  # Set to keep track of visited nodes\n",
    "        queue = deque()\n",
    "\n",
    "        queue.append(source)\n",
    "        visited.add(source)\n",
    "        levels[source] = 0\n",
    "\n",
    "        while queue:\n",
    "            current_node = queue.popleft()\n",
    "            current_level = levels[current_node]\n",
    "\n",
    "            print(f\"Node {current_node} is at level {current_level}\")\n",
    "\n",
    "            for neighbor in self.graph[current_node]:\n",
    "                if neighbor not in visited:\n",
    "                    queue.append(neighbor)\n",
    "                    visited.add(neighbor)\n",
    "                    levels[neighbor] = current_level + 1\n",
    "\n",
    "# Example usage:\n",
    "g = Graph()\n",
    "g.add_edge(0, 1)\n",
    "g.add_edge(0, 2)\n",
    "g.add_edge(1, 2)\n",
    "g.add_edge(2, 0)\n",
    "g.add_edge(2, 3)\n",
    "g.add_edge(3, 3)\n",
    "\n",
    "source_node = 2\n",
    "print(f\"BFS with Level Detection starting from Node {source_node}:\")\n",
    "g.bfs_with_levels(source_node)\n"
   ]
  },
  {
   "cell_type": "markdown",
   "metadata": {},
   "source": [
    "# BINARY SEARCH TREE"
   ]
  },
  {
   "cell_type": "markdown",
   "metadata": {},
   "source": [
    "### * Identify all leaf nodes.\n"
   ]
  },
  {
   "cell_type": "code",
   "execution_count": 9,
   "metadata": {},
   "outputs": [
    {
     "name": "stdout",
     "output_type": "stream",
     "text": [
      "Leaf Nodes: [4, 5, 6, 7]\n"
     ]
    }
   ],
   "source": [
    "class TreeNode:\n",
    "    def __init__(self, val):\n",
    "        self.val = val\n",
    "        self.left = None\n",
    "        self.right = None\n",
    "\n",
    "def find_leaf_nodes(root):\n",
    "    leaf_nodes = []\n",
    "\n",
    "    def dfs(node):\n",
    "        if not node:\n",
    "            return\n",
    "        if not node.left and not node.right:\n",
    "            leaf_nodes.append(node.val)\n",
    "        dfs(node.left)\n",
    "        dfs(node.right)\n",
    "\n",
    "    dfs(root)\n",
    "    return leaf_nodes\n",
    "\n",
    "# Example usage:\n",
    "# Create a binary tree\n",
    "root = TreeNode(1)\n",
    "root.left = TreeNode(2)\n",
    "root.right = TreeNode(3)\n",
    "root.left.left = TreeNode(4)\n",
    "root.left.right = TreeNode(5)\n",
    "root.right.left = TreeNode(6)\n",
    "root.right.right = TreeNode(7)\n",
    "\n",
    "leaf_nodes = find_leaf_nodes(root)\n",
    "print(\"Leaf Nodes:\", leaf_nodes)\n"
   ]
  },
  {
   "cell_type": "markdown",
   "metadata": {},
   "source": [
    "### # insert_element(root,k)"
   ]
  },
  {
   "cell_type": "code",
   "execution_count": 14,
   "metadata": {},
   "outputs": [],
   "source": [
    "class Node:\n",
    "    def __init__(self,data):\n",
    "        self.left = None\n",
    "        self.data = data\n",
    "        self.right = None\n",
    "def insert_element(root,k):\n",
    "\n",
    "    if root is None:\n",
    "        return Node(k)  # Create a new node if the tree is empty\n",
    "    if k < root.data:\n",
    "        root.left = insert_element(root.left, k)  # Recursively insert into the left subtree\n",
    "    else:\n",
    "        root.right = insert_element(root.right, k)  # Recursively insert into the right subtree\n",
    "    return root  # Return the root of the modified tree"
   ]
  },
  {
   "cell_type": "markdown",
   "metadata": {},
   "source": [
    "### Insert element: insert_element(root, k)"
   ]
  },
  {
   "cell_type": "code",
   "execution_count": 10,
   "metadata": {},
   "outputs": [
    {
     "name": "stdout",
     "output_type": "stream",
     "text": [
      "Inorder Traversal of the BST:\n",
      "1 3 4 5 7 8 9 "
     ]
    }
   ],
   "source": [
    "class Node:\n",
    "    def __init__(self, data):\n",
    "        self.left = None\n",
    "        self.data = data\n",
    "        self.right = None\n",
    "\n",
    "def insert_element(root, k):\n",
    "    if root is None:\n",
    "        return Node(k)  # Create a new node if the tree is empty\n",
    "    if k < root.data:\n",
    "        root.left = insert_element(root.left, k)  # Recursively insert into the left subtree\n",
    "    else:\n",
    "        root.right = insert_element(root.right, k)  # Recursively insert into the right subtree\n",
    "    return root  # Return the root of the modified tree\n",
    "\n",
    "def inorder_traversal(root):\n",
    "    if root is not None:\n",
    "        inorder_traversal(root.left)\n",
    "        print(root.data, end=\" \")\n",
    "        inorder_traversal(root.right)\n",
    "\n",
    "# Example usage:\n",
    "root = None\n",
    "elements = [5, 3, 8, 1, 4, 7, 9]\n",
    "\n",
    "for element in elements:\n",
    "    root = insert_element(root, element)\n",
    "\n",
    "print(\"Inorder Traversal of the BST:\")\n",
    "inorder_traversal(root)\n"
   ]
  },
  {
   "cell_type": "markdown",
   "metadata": {},
   "source": [
    "# DYNAMMIC PROGRAMMING"
   ]
  },
  {
   "cell_type": "markdown",
   "metadata": {},
   "source": [
    "### * Ways to reach target with given coins (infinite supply).\n"
   ]
  },
  {
   "cell_type": "code",
   "execution_count": 11,
   "metadata": {},
   "outputs": [
    {
     "name": "stdout",
     "output_type": "stream",
     "text": [
      "Number of ways to reach 5 with coins [1, 2, 5]: 4\n"
     ]
    }
   ],
   "source": [
    "def count_ways(coins, target):\n",
    "    # Initialize a list to store the number of ways to make each value from 0 to the target.\n",
    "    dp = [0] * (target + 1)\n",
    "\n",
    "    # There is one way to make a value of 0 (using no coins).\n",
    "    dp[0] = 1\n",
    "\n",
    "    # Iterate through each coin in the set.\n",
    "    for coin in coins:\n",
    "        # Update dp[i] for each value i from coin to target.\n",
    "        for i in range(coin, target + 1):\n",
    "            dp[i] += dp[i - coin]\n",
    "\n",
    "    # The final value in dp[target] will contain the number of ways to reach the target.\n",
    "    return dp[target]\n",
    "\n",
    "# Example usage:\n",
    "coins = [1, 2, 5]\n",
    "target = 5\n",
    "ways = count_ways(coins, target)\n",
    "print(f\"Number of ways to reach {target} with coins {coins}: {ways}\")\n"
   ]
  },
  {
   "cell_type": "markdown",
   "metadata": {},
   "source": [
    "### # Count Subsequences\n"
   ]
  },
  {
   "cell_type": "code",
   "execution_count": 13,
   "metadata": {},
   "outputs": [
    {
     "name": "stdout",
     "output_type": "stream",
     "text": [
      "Number of valid subsequences: 8\n"
     ]
    }
   ],
   "source": [
    "def countSubseq(S):\n",
    "    n = len(S)\n",
    "    dp = [0] * n  # Initialize a DP array to store the count of valid subsequences ending at each position\n",
    "    \n",
    "    # Initialize the DP array for the first character\n",
    "    dp[0] = 1  # There is always one valid subsequence ending at the first character\n",
    "    \n",
    "    for i in range(1, n):\n",
    "        dp[i] = 1  # Initialize to 1 as every character itself is a valid subsequence\n",
    "        \n",
    "        for j in range(i):\n",
    "            # Check if S[i] is greater than all previous digits in the subsequence\n",
    "            if S[i] > S[j]:\n",
    "                dp[i] += dp[j]  # Add the count of valid subsequences ending at position j\n",
    "        \n",
    "    # The sum of the DP array will give the total count of valid subsequences\n",
    "    return sum(dp)\n",
    "\n",
    "# Example usage:\n",
    "s = '7598'\n",
    "count = countSubseq(s)\n",
    "print(\"Number of valid subsequences:\", count)"
   ]
  },
  {
   "cell_type": "markdown",
   "metadata": {},
   "source": [
    "### Count Subsequences"
   ]
  },
  {
   "cell_type": "code",
   "execution_count": 12,
   "metadata": {},
   "outputs": [
    {
     "name": "stdout",
     "output_type": "stream",
     "text": [
      "Number of subsequences of 'abcabc' matching 'abc': 4\n"
     ]
    }
   ],
   "source": [
    "def count_subsequences(s, target):\n",
    "    m, n = len(s), len(target)\n",
    "\n",
    "    # Create a 2D table to store the count of subsequences.\n",
    "    # dp[i][j] will store the count of subsequences of s[0...i-1] that match target[0...j-1].\n",
    "    dp = [[0] * (n + 1) for _ in range(m + 1)]\n",
    "\n",
    "    # An empty string can be a subsequence of any string, so initialize the first column to 1.\n",
    "    for i in range(m + 1):\n",
    "        dp[i][0] = 1\n",
    "\n",
    "    # Fill the dp table using dynamic programming.\n",
    "    for i in range(1, m + 1):\n",
    "        for j in range(1, n + 1):\n",
    "            if s[i - 1] == target[j - 1]:\n",
    "                # If the characters match, we have two choices:\n",
    "                # 1. Include the character in both strings (s[i-1] == target[j-1]).\n",
    "                # 2. Exclude the character from the target string.\n",
    "                dp[i][j] = dp[i - 1][j - 1] + dp[i - 1][j]\n",
    "            else:\n",
    "                # If the characters do not match, we can only exclude the character from the target string.\n",
    "                dp[i][j] = dp[i - 1][j]\n",
    "\n",
    "    # The value at dp[m][n] will be the count of subsequences of s that match the entire target string.\n",
    "    return dp[m][n]\n",
    "\n",
    "# Example usage:\n",
    "s = \"abcabc\"\n",
    "target = \"abc\"\n",
    "count = count_subsequences(s, target)\n",
    "print(f\"Number of subsequences of '{s}' matching '{target}': {count}\")\n"
   ]
  }
 ],
 "metadata": {
  "kernelspec": {
   "display_name": "Python 3",
   "language": "python",
   "name": "python3"
  },
  "language_info": {
   "codemirror_mode": {
    "name": "ipython",
    "version": 3
   },
   "file_extension": ".py",
   "mimetype": "text/x-python",
   "name": "python",
   "nbconvert_exporter": "python",
   "pygments_lexer": "ipython3",
   "version": "3.11.4"
  },
  "orig_nbformat": 4
 },
 "nbformat": 4,
 "nbformat_minor": 2
}
