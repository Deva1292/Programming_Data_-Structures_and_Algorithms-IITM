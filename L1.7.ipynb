{
 "cells": [
  {
   "cell_type": "markdown",
   "metadata": {},
   "source": [
    "Classes and objects"
   ]
  },
  {
   "cell_type": "markdown",
   "metadata": {},
   "source": [
    "2D Distance"
   ]
  },
  {
   "cell_type": "code",
   "execution_count": null,
   "metadata": {},
   "outputs": [],
   "source": [
    "class Point:\n",
    "  def __init__(self,a=0,b=0): # __init__ initialises internal values x,y\n",
    "    self.x = a\n",
    "    self.y = b\n",
    "\n",
    "  def translate(self,deltax,deltay):\n",
    "    self.x += deltax\n",
    "    self.y += deltay\n",
    "\n",
    "  def odistance(self):\n",
    "    import math\n",
    "    d = math.sqrt(self.x*self.x +\n",
    "                  self.y*self.y)\n",
    "    return(d)\n",
    "\n",
    "  def __str__(self):\n",
    "    return('('+str(self.x)+','\n",
    "            +str(self.y)+')')\n",
    "\n",
    "  def __add__(self,p):\n",
    "    return(Point(self.x + p.x, \n",
    "                 self.y + p.y))\n",
    "\n",
    "p = Point(3,4)\n",
    "q = Point(5,8)\n",
    "print(p)\n",
    "print(p+q)"
   ]
  },
  {
   "cell_type": "markdown",
   "metadata": {},
   "source": [
    "Polar coordinates"
   ]
  },
  {
   "cell_type": "code",
   "execution_count": null,
   "metadata": {},
   "outputs": [],
   "source": [
    "import math\n",
    "class Point:\n",
    "    def __init__(self, a=0, b=0): # (r,theta) instead of (x,y)\n",
    "        self.r = math.sqrt(a**2 + b**2)\n",
    "        if a == 0:\n",
    "            self.theta = math.pi/2\n",
    "        else:\n",
    "            self.theta = math.atan(b/a)\n",
    "    \n",
    "    def odistance(self):\n",
    "        return (self.r)\n",
    "\n",
    "    def translate(self,deltax,deltay):\n",
    "        x = self.r*math.cos(self.theta) + deltax\n",
    "        y = self.r*math.sin(self.theta) + deltay\n",
    "        self.r = math.sqrt(x**2 + y**2)\n",
    "        if x == 0:\n",
    "            self.theta = math.pi/2\n",
    "        else:\n",
    "            self.theta = math.atan(y/x)"
   ]
  },
  {
   "cell_type": "markdown",
   "metadata": {},
   "source": [
    "1. __init__() - constructor\n",
    "2. __str__() - convert object to string (implicitly invoked by print)\n",
    "3. __add__() - implicitly invoked by +\n",
    "4. __mul__() - invoked by *\n",
    "5. __lt__() - invoked by <\n",
    "6. __ge__() - invoked by >="
   ]
  },
  {
   "cell_type": "markdown",
   "metadata": {},
   "source": []
  }
 ],
 "metadata": {
  "language_info": {
   "name": "python"
  },
  "orig_nbformat": 4
 },
 "nbformat": 4,
 "nbformat_minor": 2
}
