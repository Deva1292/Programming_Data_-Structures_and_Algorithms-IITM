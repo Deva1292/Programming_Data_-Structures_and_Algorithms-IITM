{
 "cells": [
  {
   "cell_type": "markdown",
   "metadata": {},
   "source": [
    "Exception handling"
   ]
  },
  {
   "cell_type": "markdown",
   "metadata": {},
   "source": [
    "Our code could generate many types of errors\n",
    "\n",
    "1. y = x/z, but z has value 0 \n",
    "2. y = int(s), but string s does not represent a valid integer \n",
    "3. y = 5*x, but x does not have a value \n",
    "5. y = l[i], but i is not a valid index for list l \n",
    "6. Try to read from a file, but the file does not exist \n",
    "7. Try to write to a file, but the disk is full"
   ]
  },
  {
   "cell_type": "markdown",
   "metadata": {
    "notebookRunGroups": {
     "groupValue": ""
    }
   },
   "source": [
    "Types of some common errors\n",
    "\n",
    "1. SyntaxError: invalid syntax\n",
    "2. Name used before value is defined - NameError: name ’x’ is not defined\n",
    "3. Division by zero in arithmetic expression - ZeroDivisionError: division by zero\n",
    "4. Invalid list index IndexError: list assignment index out of range"
   ]
  },
  {
   "cell_type": "code",
   "execution_count": 1,
   "metadata": {},
   "outputs": [
    {
     "ename": "IndentationError",
     "evalue": "expected an indented block after 'try' statement on line 1 (1701611804.py, line 3)",
     "output_type": "error",
     "traceback": [
      "\u001b[1;36m  Cell \u001b[1;32mIn[1], line 3\u001b[1;36m\u001b[0m\n\u001b[1;33m    except (IndexError):\u001b[0m\n\u001b[1;37m    ^\u001b[0m\n\u001b[1;31mIndentationError\u001b[0m\u001b[1;31m:\u001b[0m expected an indented block after 'try' statement on line 1\n"
     ]
    }
   ],
   "source": [
    "try:\n",
    "    #... ← Code where error may occur\n",
    "except (IndexError):\n",
    "    #... ← Handle IndexError \n",
    "except (NameError,KeyError):\n",
    "    #... ← Handle multiple exception types \n",
    "except:\n",
    "    #... ← Handle all other exceptions \n",
    "else:\n",
    "    #... ← Execute if try runs without errors"
   ]
  },
  {
   "cell_type": "code",
   "execution_count": 4,
   "metadata": {},
   "outputs": [
    {
     "ename": "NameError",
     "evalue": "name 'b' is not defined",
     "output_type": "error",
     "traceback": [
      "\u001b[1;31m---------------------------------------------------------------------------\u001b[0m",
      "\u001b[1;31mNameError\u001b[0m                                 Traceback (most recent call last)",
      "Cell \u001b[1;32mIn[4], line 2\u001b[0m\n\u001b[0;32m      1\u001b[0m scores \u001b[39m=\u001b[39m {\u001b[39m\"\u001b[39m\u001b[39mShefali\u001b[39m\u001b[39m\"\u001b[39m:[\u001b[39m3\u001b[39m,\u001b[39m22\u001b[39m],\n\u001b[1;32m----> 2\u001b[0m           b:[\u001b[39m200\u001b[39m,\u001b[39m3\u001b[39m]}\n\u001b[0;32m      3\u001b[0m scores[b]\u001b[39m.\u001b[39mappend(s)\n\u001b[0;32m      4\u001b[0m scores[b] \u001b[39m=\u001b[39m [s]\n",
      "\u001b[1;31mNameError\u001b[0m: name 'b' is not defined"
     ]
    }
   ],
   "source": [
    "scores = {\"Shefali\":[3,22],\n",
    "          \"Harmanpreet\":[200,3]}\n",
    "scores[b].append(s)\n",
    "scores[b] = [s]\n",
    "\n",
    "# Traditional Approach\n",
    "if b in scores.keys():\n",
    "    scores[b].append(s)\n",
    "else:\n",
    "    scores[b] = [s]\n",
    "\n",
    "# Using exceptions\n",
    "try:\n",
    "    scores[b].append(s)\n",
    "except KeyError:\n",
    "    scores[b] = [s]"
   ]
  }
 ],
 "metadata": {
  "kernelspec": {
   "display_name": "Python 3",
   "language": "python",
   "name": "python3"
  },
  "language_info": {
   "codemirror_mode": {
    "name": "ipython",
    "version": 3
   },
   "file_extension": ".py",
   "mimetype": "text/x-python",
   "name": "python",
   "nbconvert_exporter": "python",
   "pygments_lexer": "ipython3",
   "version": "3.10.2"
  },
  "orig_nbformat": 4
 },
 "nbformat": 4,
 "nbformat_minor": 2
}
