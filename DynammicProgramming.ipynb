{
 "cells": [
  {
   "cell_type": "markdown",
   "metadata": {},
   "source": [
    "### 4.Minimum coins required from infinite supply for a value."
   ]
  },
  {
   "cell_type": "code",
   "execution_count": 2,
   "metadata": {},
   "outputs": [
    {
     "name": "stdout",
     "output_type": "stream",
     "text": [
      "Minimum coins required to make 11 using coins [1, 2, 5]: 3\n"
     ]
    }
   ],
   "source": [
    "def min_coins(coins, target):\n",
    "    # Initialize a DP table with a large value (infinity) for all positions except dp[0]\n",
    "    dp = [float('inf')] * (target + 1)\n",
    "    dp[0] = 0  # It takes 0 coins to make a value of 0\n",
    "    \n",
    "    # Iterate through each coin denomination and update the DP table\n",
    "    for coin in coins:\n",
    "        for i in range(coin, target + 1):\n",
    "            dp[i] = min(dp[i], dp[i - coin] + 1)\n",
    "    \n",
    "    return dp[target]\n",
    "\n",
    "# Example usage:\n",
    "coins = [1, 2, 5]\n",
    "target = 11\n",
    "min_coins_required = min_coins(coins, target)\n",
    "print(f\"Minimum coins required to make {target} using coins {coins}: {min_coins_required}\")\n"
   ]
  },
  {
   "cell_type": "code",
   "execution_count": null,
   "metadata": {},
   "outputs": [],
   "source": []
  }
 ],
 "metadata": {
  "kernelspec": {
   "display_name": "Python 3",
   "language": "python",
   "name": "python3"
  },
  "language_info": {
   "codemirror_mode": {
    "name": "ipython",
    "version": 3
   },
   "file_extension": ".py",
   "mimetype": "text/x-python",
   "name": "python",
   "nbconvert_exporter": "python",
   "pygments_lexer": "ipython3",
   "version": "3.11.4"
  },
  "orig_nbformat": 4
 },
 "nbformat": 4,
 "nbformat_minor": 2
}
