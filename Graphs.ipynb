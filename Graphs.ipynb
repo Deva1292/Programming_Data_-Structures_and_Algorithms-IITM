{
 "cells": [
  {
   "cell_type": "markdown",
   "metadata": {},
   "source": [
    "### 3. Find the level in BFS"
   ]
  },
  {
   "cell_type": "code",
   "execution_count": 1,
   "metadata": {},
   "outputs": [
    {
     "name": "stdout",
     "output_type": "stream",
     "text": [
      "Vertex 0: Level 0\n",
      "Vertex 1: Level 1\n",
      "Vertex 2: Level 1\n",
      "Vertex 3: Level 2\n",
      "Vertex 4: Level 2\n",
      "Vertex 5: Level 2\n",
      "Vertex 6: Level 2\n"
     ]
    }
   ],
   "source": [
    "from collections import deque\n",
    "\n",
    "class Graph:\n",
    "    def __init__(self, vertices):\n",
    "        self.vertices = vertices\n",
    "        self.adjacency_list = {}\n",
    "        for vertex in range(vertices):\n",
    "            self.adjacency_list[vertex] = []\n",
    "\n",
    "    def add_edge(self, u, v):\n",
    "        self.adjacency_list[u].append(v)\n",
    "        self.adjacency_list[v].append(u)\n",
    "\n",
    "    def bfs_levels(self, start):\n",
    "        visited = [False] * self.vertices\n",
    "        levels = [0] * self.vertices\n",
    "        queue = deque()\n",
    "\n",
    "        visited[start] = True\n",
    "        queue.append(start)\n",
    "\n",
    "        while queue:\n",
    "            current_vertex = queue.popleft()\n",
    "\n",
    "            for neighbor in self.adjacency_list[current_vertex]:\n",
    "                if not visited[neighbor]:\n",
    "                    visited[neighbor] = True\n",
    "                    levels[neighbor] = levels[current_vertex] + 1\n",
    "                    queue.append(neighbor)\n",
    "\n",
    "        return levels\n",
    "\n",
    "# Example usage:\n",
    "# Create a graph and add edges\n",
    "g = Graph(7)\n",
    "g.add_edge(0, 1)\n",
    "g.add_edge(0, 2)\n",
    "g.add_edge(1, 3)\n",
    "g.add_edge(1, 4)\n",
    "g.add_edge(2, 5)\n",
    "g.add_edge(2, 6)\n",
    "\n",
    "# Start BFS from vertex 0\n",
    "start_vertex = 0\n",
    "levels = g.bfs_levels(start_vertex)\n",
    "\n",
    "# Print levels of all vertices\n",
    "for vertex, level in enumerate(levels):\n",
    "    print(f\"Vertex {vertex}: Level {level}\")"
   ]
  },
  {
   "cell_type": "code",
   "execution_count": null,
   "metadata": {},
   "outputs": [],
   "source": []
  }
 ],
 "metadata": {
  "kernelspec": {
   "display_name": "Python 3",
   "language": "python",
   "name": "python3"
  },
  "language_info": {
   "codemirror_mode": {
    "name": "ipython",
    "version": 3
   },
   "file_extension": ".py",
   "mimetype": "text/x-python",
   "name": "python",
   "nbconvert_exporter": "python",
   "pygments_lexer": "ipython3",
   "version": "3.11.4"
  },
  "orig_nbformat": 4
 },
 "nbformat": 4,
 "nbformat_minor": 2
}
