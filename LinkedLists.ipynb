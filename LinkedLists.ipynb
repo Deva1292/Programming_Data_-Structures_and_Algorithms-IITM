{
 "cells": [
  {
   "cell_type": "markdown",
   "metadata": {},
   "source": [
    "# LINKED LISTS"
   ]
  },
  {
   "cell_type": "markdown",
   "metadata": {},
   "source": [
    "Single Linked List (Every node will have a single link)\n"
   ]
  },
  {
   "cell_type": "code",
   "execution_count": 32,
   "metadata": {},
   "outputs": [
    {
     "name": "stdout",
     "output_type": "stream",
     "text": [
      "10\n",
      "20\n",
      "30\n"
     ]
    }
   ],
   "source": [
    "class Node: # Creating a node\n",
    "    def __init__(self, data):\n",
    "        self.data = data\n",
    "        self.next = None # address of next node\n",
    "\n",
    "class SingleLinkedList: # Creating a single linked list\n",
    "    def __init__(self):\n",
    "        self.head = None\n",
    "\n",
    "    def insert_beginning(self,data): # Insertion at the beginning\n",
    "        nb = Node(data)\n",
    "        nb.next = self.head\n",
    "        self.head = nb\n",
    "\n",
    "    def insert_end(self,data): # Insertion at the end\n",
    "        ne = Node(data)\n",
    "        temp = self.head\n",
    "        while temp.next:\n",
    "            temp = temp.next\n",
    "        temp.next = ne\n",
    "\n",
    "    def insert_position(self,pos,data): # Insertion at the desired position\n",
    "        np = Node(data)\n",
    "        temp = self.head\n",
    "        for i in range(pos - 1):\n",
    "            temp = temp.next\n",
    "        np.data = data\n",
    "        np.next = temp.next\n",
    "        temp.next = np\n",
    "    \n",
    "    def delete_beginning(self):\n",
    "        temp = self.head\n",
    "        self.head = temp.next\n",
    "        temp.next = None\n",
    "        del temp\n",
    "    \n",
    "    def delete_end(self):\n",
    "        temp = self.head.next\n",
    "        prev = self.head\n",
    "        while temp.next is not None:\n",
    "            temp = temp.next\n",
    "            prev = prev.next\n",
    "        prev.next = None\n",
    "        del temp\n",
    "    \n",
    "    def delete_position(self,pos):\n",
    "        temp = self.head.next\n",
    "        prev = self.head\n",
    "        for i in range(1, pos - 1):\n",
    "            temp = temp.next\n",
    "            prev = prev.next\n",
    "        prev.next = temp.next\n",
    "        temp.next = None\n",
    "        del temp\n",
    "\n",
    "    def display(self):\n",
    "        if self.head is None:\n",
    "            print(\"Linked List is empty\")\n",
    "        else:\n",
    "            temp = self.head #traversing temp value\n",
    "            while temp:\n",
    "                print(temp.data)\n",
    "                temp = temp.next\n",
    "\n",
    "L = SingleLinkedList()\n",
    "n1 = Node(10)\n",
    "L.head = n1\n",
    "n2 = Node (20)\n",
    "n1.next = n2 #Linking address of 2nd node to first node\n",
    "n3 = Node(30)\n",
    "n2.next = n3\n",
    "\n",
    "L.insert_beginning(0)\n",
    "L.insert_end(40)\n",
    "L.insert_position(3,25)\n",
    "L.delete_beginning()\n",
    "L.delete_end()\n",
    "L.delete_position(3)\n",
    "L.display()"
   ]
  },
  {
   "cell_type": "markdown",
   "metadata": {},
   "source": [
    "### 1. Remove duplicates from Unsorted Linked List"
   ]
  },
  {
   "cell_type": "code",
   "execution_count": 33,
   "metadata": {},
   "outputs": [],
   "source": [
    "def removeDuplicate(head): # Function to remove duplicates in the linked list\n",
    "    current = head # Pointer to traverse the linked list\n",
    "    index = None\n",
    "    while current is not None: # Loop to traverse the linked list\n",
    "        index = current.next   # Loop to compare current node with all other nodes\n",
    "        while index is not None: \n",
    "            if current.data == index.data: # Checking for duplicate values\n",
    "                current.next = index.next\n",
    "                index = current.next # Deleting the duplicate node\n",
    "            else:\n",
    "                index = index.next\n",
    "        current = current.next"
   ]
  }
 ],
 "metadata": {
  "kernelspec": {
   "display_name": "Python 3",
   "language": "python",
   "name": "python3"
  },
  "language_info": {
   "codemirror_mode": {
    "name": "ipython",
    "version": 3
   },
   "file_extension": ".py",
   "mimetype": "text/x-python",
   "name": "python",
   "nbconvert_exporter": "python",
   "pygments_lexer": "ipython3",
   "version": "3.11.4"
  },
  "orig_nbformat": 4
 },
 "nbformat": 4,
 "nbformat_minor": 2
}
