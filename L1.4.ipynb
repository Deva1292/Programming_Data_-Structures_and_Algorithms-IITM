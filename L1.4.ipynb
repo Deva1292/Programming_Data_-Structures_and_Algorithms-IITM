{
 "cells": [
  {
   "cell_type": "markdown",
   "metadata": {},
   "source": [
    "Computing Prime"
   ]
  },
  {
   "cell_type": "markdown",
   "metadata": {},
   "source": [
    "1. A prime number n has exactly two factors, 1 and n \n",
    "2. Note that 1 is not a prime \n",
    "3. Compute the list of factors of n \n",
    "4. n is a prime if the list of factors is precisely [1,n]"
   ]
  },
  {
   "cell_type": "code",
   "execution_count": 1,
   "metadata": {},
   "outputs": [],
   "source": [
    "def factors(n):\n",
    "    fl = [] # factor list\n",
    "    for i in range(1,n+1):\n",
    "        if (n%i) == 0:\n",
    "            fl.append(i)\n",
    "    return(fl)\n",
    "def prime(n):\n",
    "    return(factors(n) == [1,n])"
   ]
  },
  {
   "cell_type": "code",
   "execution_count": 2,
   "metadata": {},
   "outputs": [
    {
     "data": {
      "text/plain": [
       "[1]"
      ]
     },
     "execution_count": 2,
     "metadata": {},
     "output_type": "execute_result"
    }
   ],
   "source": [
    "factors(1)"
   ]
  },
  {
   "cell_type": "code",
   "execution_count": 3,
   "metadata": {},
   "outputs": [
    {
     "data": {
      "text/plain": [
       "[1, 2]"
      ]
     },
     "execution_count": 3,
     "metadata": {},
     "output_type": "execute_result"
    }
   ],
   "source": [
    "factors(2)"
   ]
  },
  {
   "cell_type": "markdown",
   "metadata": {},
   "source": [
    "Counting primes"
   ]
  },
  {
   "cell_type": "code",
   "execution_count": 5,
   "metadata": {},
   "outputs": [],
   "source": [
    "def primesupto(m):\n",
    "    pl = [] # prime list\n",
    "    for i in range(1,m+1):\n",
    "        if prime(i):\n",
    "            pl.append(i)\n",
    "    return(pl)"
   ]
  },
  {
   "cell_type": "code",
   "execution_count": 6,
   "metadata": {},
   "outputs": [],
   "source": [
    "def firstprimes(m):\n",
    "    (count,i,pl) = (0,1,[]) # count is the number of primes found so far, i is the number being tested, pl is the list of primes found so far\n",
    "    while (count < m):\n",
    "        if prime(i):\n",
    "            (count,pl) = (count+1,pl+[i])\n",
    "        i = i+1\n",
    "    return pl"
   ]
  },
  {
   "cell_type": "code",
   "execution_count": 7,
   "metadata": {},
   "outputs": [
    {
     "data": {
      "text/plain": [
       "[2, 3, 5, 7, 11, 13, 17, 19, 23, 29]"
      ]
     },
     "execution_count": 7,
     "metadata": {},
     "output_type": "execute_result"
    }
   ],
   "source": [
    "firstprimes(10)"
   ]
  },
  {
   "cell_type": "markdown",
   "metadata": {},
   "source": [
    "Computing Primes- Other approach"
   ]
  },
  {
   "cell_type": "markdown",
   "metadata": {},
   "source": [
    "Directly check if n has a factor between 2 and n − 1"
   ]
  },
  {
   "cell_type": "code",
   "execution_count": 10,
   "metadata": {},
   "outputs": [],
   "source": [
    "def prime(n):\n",
    "    result = True\n",
    "    for i in range(2,n):\n",
    "        if (n%i) == 0:\n",
    "            result = False\n",
    "    return(result)"
   ]
  },
  {
   "cell_type": "markdown",
   "metadata": {},
   "source": [
    "Terminate after we find first factor"
   ]
  },
  {
   "cell_type": "code",
   "execution_count": 11,
   "metadata": {},
   "outputs": [],
   "source": [
    "def prime(n):\n",
    "    result = True\n",
    "    for i in range(2,n):\n",
    "        if (n%i) == 0:\n",
    "            result = False\n",
    "            break # Abort loop\n",
    "    return(result)"
   ]
  },
  {
   "cell_type": "markdown",
   "metadata": {},
   "source": [
    "Directly check if n has a factor between 2 and n//2"
   ]
  },
  {
   "cell_type": "code",
   "execution_count": 12,
   "metadata": {},
   "outputs": [],
   "source": [
    "def prime(n):\n",
    "    result = True\n",
    "    for i in range(2,n//2):\n",
    "        if (n%i) == 0:\n",
    "            result = False\n",
    "    return(result)"
   ]
  },
  {
   "cell_type": "markdown",
   "metadata": {},
   "source": [
    "Computing Primes- Sufficient to check factors up to √ n"
   ]
  },
  {
   "cell_type": "code",
   "execution_count": 13,
   "metadata": {},
   "outputs": [],
   "source": [
    "import math\n",
    "def prime(n):\n",
    "    (result,i) = (True,2)\n",
    "    while (result and (i <= math.sqrt(n))):\n",
    "        if (n%i) == 0:\n",
    "            result = False\n",
    "        i = i+1\n",
    "    return(result)"
   ]
  },
  {
   "cell_type": "code",
   "execution_count": 15,
   "metadata": {},
   "outputs": [],
   "source": [
    "def primediffs(n):\n",
    "    lastprime = 2\n",
    "    pd = {}\n",
    "    for i in range (3,n+1):\n",
    "        if prime(i):\n",
    "            d = i - lastprime\n",
    "            lastprime = i\n",
    "            if d in pd.keys():\n",
    "                pd[d] = pd[d] + 1\n",
    "            else:\n",
    "                pd[d] = 1\n",
    "    return (pd)"
   ]
  },
  {
   "cell_type": "markdown",
   "metadata": {},
   "source": []
  }
 ],
 "metadata": {
  "kernelspec": {
   "display_name": "Python 3",
   "language": "python",
   "name": "python3"
  },
  "language_info": {
   "codemirror_mode": {
    "name": "ipython",
    "version": 3
   },
   "file_extension": ".py",
   "mimetype": "text/x-python",
   "name": "python",
   "nbconvert_exporter": "python",
   "pygments_lexer": "ipython3",
   "version": "3.10.2"
  },
  "orig_nbformat": 4
 },
 "nbformat": 4,
 "nbformat_minor": 2
}
