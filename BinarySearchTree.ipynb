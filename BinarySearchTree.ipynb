{
 "cells": [
  {
   "cell_type": "markdown",
   "metadata": {},
   "source": [
    "# Binary Search Tree"
   ]
  },
  {
   "cell_type": "markdown",
   "metadata": {},
   "source": [
    "1. Every Node should have at most two children\n",
    "2. All the elements of the left subtree must be less than the root \n",
    "3. All the elements of the right subtree must be greater the root"
   ]
  },
  {
   "cell_type": "code",
   "execution_count": 8,
   "metadata": {},
   "outputs": [],
   "source": [
    "class Node:\n",
    "    def __init__(self,data):\n",
    "        self.left = None\n",
    "        self.data = data\n",
    "        self.right = None\n",
    "        \n",
    "def insert_element(root,k):\n",
    "    if root is None:\n",
    "        return Node(k)  # Create a new node if the tree is empty\n",
    "    if k < root.data:\n",
    "        root.left = insert_element(root.left, k)  # Recursively insert into the left subtree\n",
    "    else:\n",
    "        root.right = insert_element(root.right, k)  # Recursively insert into the right subtree\n",
    "    return root  # Return the root of the modified tree\n"
   ]
  },
  {
   "cell_type": "markdown",
   "metadata": {},
   "source": [
    "### 2. Extract Leaf Nodes from Binary Search Tree"
   ]
  },
  {
   "cell_type": "code",
   "execution_count": 11,
   "metadata": {},
   "outputs": [
    {
     "name": "stdout",
     "output_type": "stream",
     "text": [
      "Leaf nodes: [20, 40, 60, 80]\n"
     ]
    }
   ],
   "source": [
    "class Node:\n",
    "    def __init__(self, data):\n",
    "        self.left = None\n",
    "        self.data = data\n",
    "        self.right = None\n",
    "\n",
    "def extract_leaf_nodes(root, leaf_nodes):\n",
    "    if root is None:\n",
    "        return\n",
    "    if root.left is None and root.right is None: # If the node is a leaf node (both left and right children are None)\n",
    "        leaf_nodes.append(root.data)\n",
    "    extract_leaf_nodes(root.left, leaf_nodes) # Recursively process left and right subtrees\n",
    "    extract_leaf_nodes(root.right, leaf_nodes)\n",
    "\n",
    "root = Node(50) # Example usage\n",
    "root.left = Node(30) # Create a sample binary search tree\n",
    "root.right = Node(70)\n",
    "root.left.left = Node(20)\n",
    "root.left.right = Node(40)\n",
    "root.right.left = Node(60)\n",
    "root.right.right = Node(80)\n",
    "\n",
    "leaf_nodes = [] # Initialize an empty list to store leaf nodes\n",
    "extract_leaf_nodes(root, leaf_nodes) # Call the function to extract leaf nodes\n",
    "print(\"Leaf nodes:\", leaf_nodes) # Print the extracted leaf nodes"
   ]
  }
 ],
 "metadata": {
  "kernelspec": {
   "display_name": "Python 3",
   "language": "python",
   "name": "python3"
  },
  "language_info": {
   "codemirror_mode": {
    "name": "ipython",
    "version": 3
   },
   "file_extension": ".py",
   "mimetype": "text/x-python",
   "name": "python",
   "nbconvert_exporter": "python",
   "pygments_lexer": "ipython3",
   "version": "3.11.4"
  },
  "orig_nbformat": 4
 },
 "nbformat": 4,
 "nbformat_minor": 2
}
